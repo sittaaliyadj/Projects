{
  "nbformat": 4,
  "nbformat_minor": 0,
  "metadata": {
    "colab": {
      "provenance": [],
      "authorship_tag": "ABX9TyMFTZIZzmnPDqkfhe2HB5kL",
      "include_colab_link": true
    },
    "kernelspec": {
      "name": "python3",
      "display_name": "Python 3"
    },
    "language_info": {
      "name": "python"
    }
  },
  "cells": [
    {
      "cell_type": "markdown",
      "metadata": {
        "id": "view-in-github",
        "colab_type": "text"
      },
      "source": [
        "<a href=\"https://colab.research.google.com/github/sittayooo/BubbleSort/blob/main/BubbleSort.ipynb\" target=\"_parent\"><img src=\"https://colab.research.google.com/assets/colab-badge.svg\" alt=\"Open In Colab\"/></a>"
      ]
    },
    {
      "cell_type": "code",
      "execution_count": null,
      "metadata": {
        "id": "WLm7J-SFbF2X"
      },
      "outputs": [],
      "source": [
        "print()\n",
        "print('===============================================')\n",
        "print('              PROGRAM BUBBLE SORT              ')\n",
        "print('===============================================')\n",
        "def bubble_sort():\n",
        "    num_list=[]\n",
        "    list_cnt=input(\"Berapa Banyak Data Yang Ingin Diurutkan : \")\n",
        "    print()\n",
        "    for i in range(int(list_cnt)):\n",
        "        ### need to convert the value returned by input()\n",
        "        num_list.append(input(\"Masukkan data ke-\" +str(i+1)+\": \"))\n",
        "        ##here we are using append method of list\n",
        "\n",
        "    print()\n",
        "    print(\"Data Awal Yang Diinput Adalah : \")\n",
        "    print(num_list)\n",
        "    print()\n",
        "\n",
        "    print('Banyaknya Data : ',len(num_list))\n",
        "    num_list=list(map(int,num_list))\n",
        "    max_index=len(num_list)-1 ## because list begins with 0\n",
        "    print(\"Maksimal Index Dari Nilai Yang Diinput : \",max_index)\n",
        "    print()\n",
        "    print(\"Proses Bubble sort Ascending : \")\n",
        "    no=0\n",
        "    for i in range(len(num_list)-1):\n",
        "        j=0\n",
        "        swapped=False\n",
        "        for j in range(0, len(num_list)-1-i):\n",
        "                    if num_list[j] > num_list[j+1]: \n",
        "                        tmpt = num_list[j]\n",
        "                        num_list[j] = num_list[j+1]\n",
        "                        num_list[j+1] = tmpt\n",
        "        no += 1\n",
        "        print(no, num_list)\n",
        "    print()\n",
        "    print(\"Data Seteleh Diurutkan: \")\n",
        "    print(num_list)\n",
        "\n",
        "    print()\n",
        "    print(\"Proses Bubble sort Descending: \")\n",
        "    no=0\n",
        "    for i in range(len(num_list)-1):\n",
        "        j=0\n",
        "        swapped=False\n",
        "        for j in range(0, len(num_list)-1-i):\n",
        "                    if num_list[j] < num_list[j+1]: \n",
        "                        tmpt = num_list[j]\n",
        "                        num_list[j] = num_list[j+1]\n",
        "                        num_list[j+1] = tmpt\n",
        "        no += 1\n",
        "        print(no, num_list)\n",
        "    print()\n",
        "    print(\"Nilai Seteleh Diurutksn : \")\n",
        "    print(num_list)\n",
        "\n",
        "    x=(int(input(\"\\nApakah ingin mengulangi program? (1.YA/2.TIDAK) : \")))\n",
        "    while x==1:\n",
        "        bubble_sort()\n",
        "        x=(int(input(\"Apakah ingin mengulangi program? (1.YA/2.TIDAK) : \")))\n",
        "    else:\n",
        "        print(\"Terima kasih\")\n",
        "\n",
        "bubble_sort()\n"
      ]
    }
  ]
}