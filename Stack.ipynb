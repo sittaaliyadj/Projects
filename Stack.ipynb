{
  "nbformat": 4,
  "nbformat_minor": 0,
  "metadata": {
    "colab": {
      "provenance": [],
      "collapsed_sections": [],
      "authorship_tag": "ABX9TyNag+hf4ib8o+ACEe1DKLzD",
      "include_colab_link": true
    },
    "kernelspec": {
      "name": "python3",
      "display_name": "Python 3"
    },
    "language_info": {
      "name": "python"
    }
  },
  "cells": [
    {
      "cell_type": "markdown",
      "metadata": {
        "id": "view-in-github",
        "colab_type": "text"
      },
      "source": [
        "<a href=\"https://colab.research.google.com/github/sittayooo/BubbleSort/blob/main/Stack.ipynb\" target=\"_parent\"><img src=\"https://colab.research.google.com/assets/colab-badge.svg\" alt=\"Open In Colab\"/></a>"
      ]
    },
    {
      "cell_type": "code",
      "execution_count": null,
      "metadata": {
        "id": "WIq8PzRIeClO"
      },
      "outputs": [],
      "source": [
        "#Tugas 1.2 STR\n",
        "print('Program Dinamis Python Tumpukan Dengan Batasan')\n",
        "def stack(int):\n",
        "    stack = []\n",
        "    n = int(input(\"Masukkan maksimal tumpukan data : \"))\n",
        "    for i in range(n):\n",
        "        list=str(input(\"Masukkan data ke-\"+str(i+1)+\" : \"))\n",
        "        stack.append(list)\n",
        "    print('\\nData Awal : ')\n",
        "    print(stack)\n",
        "    print('\\nIsi tumpukan : ')\n",
        "    for i in range(len(stack)):\n",
        "        print(stack.pop())\n",
        "stack(int)\n",
        "\n",
        "x=(int(input(\"\\nApakah ingin mengulangi program? (1.YA/2.TIDAK) : \")))\n",
        "while x==1:\n",
        "    stack(int)\n",
        "    x=(int(input(\"Apakah ingin mengulangi program? (1.YA/2.TIDAK) : \")))\n",
        "else:\n",
        "    print(\"Terima kasih\")"
      ]
    }
  ]
}